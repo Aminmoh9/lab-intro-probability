{
 "cells": [
  {
   "cell_type": "markdown",
   "metadata": {},
   "source": [
    "# Lab | Intro to Probability"
   ]
  },
  {
   "cell_type": "markdown",
   "metadata": {},
   "source": [
    "**Objective**\n",
    "\n",
    "Welcome to this Intro to Probability lab, where we explore decision-making scenarios through the lens of probability and strategic analysis. In the business world, making informed decisions is crucial, especially when faced with uncertainties. This lab focuses on scenarios where probabilistic outcomes play a significant role in shaping strategies and outcomes. Students will engage in exercises that require assessing and choosing optimal paths based on data-driven insights. The goal is to enhance your skills by applying probability concepts to solve real-world problems."
   ]
  },
  {
   "cell_type": "markdown",
   "metadata": {},
   "source": [
    "**Challenge 1**"
   ]
  },
  {
   "cell_type": "markdown",
   "metadata": {},
   "source": [
    "#### Ironhack Airlines \n",
    "\n",
    "Often Airlines sell more tickets than they have seats available, this is called overbooking. Consider the following:\n",
    "- A plane has 450 seats. \n",
    "- Based on historical data we conclude that each individual passenger has a 3% chance of missing it's flight. \n",
    "\n",
    "If the Ironhack Airlines routinely sells 460 tickets, what is the chance that they have a seats for all passenger?"
   ]
  },
  {
   "cell_type": "code",
   "execution_count": 8,
   "metadata": {},
   "outputs": [
    {
     "name": "stdout",
     "output_type": "stream",
     "text": [
      "The probability that they have enough seats for all passengers is 0.8844772466215431\n"
     ]
    }
   ],
   "source": [
    "#code here\n",
    "from scipy.stats import binom\n",
    "\n",
    "# Parameters\n",
    "total_tickets = 460\n",
    "seats_available = 450\n",
    "prob_missing = 0.03\n",
    "prob_showing_up = 1 - prob_missing\n",
    "\n",
    "# Binomial distribution: probability of x or fewer passengers showing up\n",
    "prob_enough_seats = binom.cdf(seats_available, total_tickets, prob_showing_up)\n",
    "print(f'The probability that they have enough seats for all passengers is {prob_enough_seats}')\n"
   ]
  },
  {
   "cell_type": "markdown",
   "metadata": {},
   "source": [
    "**Challenge 2**"
   ]
  },
  {
   "cell_type": "markdown",
   "metadata": {},
   "source": [
    "#### Ironhack Call Center "
   ]
  },
  {
   "cell_type": "markdown",
   "metadata": {},
   "source": [
    "Suppose a customer service representative at a call center is handling customer complaints. Consider the following:\n",
    "- The probability of successfully resolving a customer complaint on the first attempt is 0.3. \n",
    "\n",
    "\n",
    "What is the probability that the representative needs to make at least three attempts before successfully resolving a customer complaint?"
   ]
  },
  {
   "cell_type": "code",
   "execution_count": 11,
   "metadata": {},
   "outputs": [
    {
     "name": "stdout",
     "output_type": "stream",
     "text": [
      " The probability that the representative needs to make at least three attempts before successfully resolving a customer complaint 0.49\n"
     ]
    }
   ],
   "source": [
    "#code here\n",
    "from scipy.stats import geom\n",
    "\n",
    "# Parameters\n",
    "prob_success = 0.3\n",
    "\n",
    "# Probability of needing at least 3 attempts\n",
    "prob_at_least_three = 1 - geom.cdf(2, prob_success)\n",
    "print(f' The probability that the representative needs to make at least three attempts before successfully resolving a customer complaint {prob_at_least_three}')"
   ]
  },
  {
   "cell_type": "markdown",
   "metadata": {},
   "source": [
    "**Challenge 3**"
   ]
  },
  {
   "cell_type": "markdown",
   "metadata": {},
   "source": [
    "#### Ironhack Website"
   ]
  },
  {
   "cell_type": "markdown",
   "metadata": {},
   "source": [
    "Consider a scenario related to Ironhack website traffic. Where:\n",
    "- our website takes on average 500 visits per hour.\n",
    "- the website's server is designed to handle up to 550 vists per hour.\n",
    "\n",
    "\n",
    "What is the probability of the website server being overwhelmed?"
   ]
  },
  {
   "cell_type": "code",
   "execution_count": 2,
   "metadata": {},
   "outputs": [
    {
     "name": "stdout",
     "output_type": "stream",
     "text": [
      "Probability of crashing in one hour: 0.0129\n"
     ]
    }
   ],
   "source": [
    "#code here\n",
    "from scipy.stats import poisson\n",
    "\n",
    "lambda_hour= 500   # Average visits per hour\n",
    "threshold = 550    # Crash threshold\n",
    "\n",
    "# Probability of more than 550 visits\n",
    "prob_crash_hour = 1 - poisson.cdf(threshold, lambda_hour)\n",
    "\n",
    "print(f\"Probability of crashing in one hour: {prob_crash_hour:.4f}\")\n"
   ]
  },
  {
   "cell_type": "markdown",
   "metadata": {},
   "source": [
    "What is the probability of being overwhelmed at some point during a day? (consider 24hours)"
   ]
  },
  {
   "cell_type": "code",
   "execution_count": 3,
   "metadata": {},
   "outputs": [
    {
     "name": "stdout",
     "output_type": "stream",
     "text": [
      "Probability of crashing at least once in 24 hours: 0.2677\n"
     ]
    }
   ],
   "source": [
    "#code here\n",
    "# Probability of at least one crash in 24 hours\n",
    "prob_crash_day = 1 - (1 - prob_crash_hour)**24\n",
    "print(f\"Probability of crashing at least once in 24 hours: {prob_crash_day:.4f}\")"
   ]
  },
  {
   "cell_type": "markdown",
   "metadata": {},
   "source": [
    "**Challenge 4**"
   ]
  },
  {
   "cell_type": "markdown",
   "metadata": {},
   "source": [
    "#### Ironhack Helpdesk"
   ]
  },
  {
   "cell_type": "markdown",
   "metadata": {},
   "source": [
    "Consider a scenario related to the time between arrivals of customers at a service desk.\n",
    "\n",
    "On average, a customers arrives every 10minutes.\n",
    "\n",
    "What is the probability that the next customer will arrive within the next 5 minutes?"
   ]
  },
  {
   "cell_type": "code",
   "execution_count": null,
   "metadata": {},
   "outputs": [
    {
     "name": "stdout",
     "output_type": "stream",
     "text": [
      "Probability of next customer arriving within 5 minutes: 0.3935\n"
     ]
    }
   ],
   "source": [
    "import numpy as np\n",
    "lambda_arrival = 1 / 10  # Average arrival rate (1 customer per 10 minutes)\n",
    "\n",
    "# Probability of a customer arriving within 5 minutes\n",
    "prob_within_5 = 1 - np.exp(-lambda_arrival * 5)\n",
    "print(f\"Probability of next customer arriving within 5 minutes: {prob_within_5:.4f}\")"
   ]
  },
  {
   "cell_type": "markdown",
   "metadata": {},
   "source": [
    "If there is no customer for 15minutes, employees can that a 5minutes break.\n",
    "\n",
    "What is the probability an employee taking a break?"
   ]
  },
  {
   "cell_type": "code",
   "execution_count": 5,
   "metadata": {},
   "outputs": [
    {
     "name": "stdout",
     "output_type": "stream",
     "text": [
      "Probability of a 15-minute break: 0.2231\n"
     ]
    }
   ],
   "source": [
    "# Probability of no customer arriving for 15 minutes (break time)\n",
    "prob_break = np.exp(-lambda_arrival * 15)\n",
    "print(f\"Probability of a 15-minute break: {prob_break:.4f}\")"
   ]
  },
  {
   "cell_type": "markdown",
   "metadata": {},
   "source": [
    "**Challenge 5**"
   ]
  },
  {
   "cell_type": "markdown",
   "metadata": {},
   "source": [
    "The weights of a certain species of birds follow a normal distribution with a mean weight of 150 grams and a standard deviation of 10 grams. \n",
    "\n",
    "- If we randomly select a bird, what is the probability that its weight is between 140 and 160 grams?"
   ]
  },
  {
   "cell_type": "code",
   "execution_count": 6,
   "metadata": {},
   "outputs": [
    {
     "name": "stdout",
     "output_type": "stream",
     "text": [
      "Probability of a bird weighing between 140g and 160g: 0.9545\n"
     ]
    }
   ],
   "source": [
    "#code here\n",
    "from scipy.stats import norm\n",
    "\n",
    "mu = 150  # Mean weight\n",
    "sigma = 5  # Standard deviation\n",
    "\n",
    "# Probabilities using Z-scores\n",
    "prob_140_160 = norm.cdf(160, mu, sigma) - norm.cdf(140, mu, sigma)\n",
    "\n",
    "print(f\"Probability of a bird weighing between 140g and 160g: {prob_140_160:.4f}\")"
   ]
  },
  {
   "cell_type": "markdown",
   "metadata": {},
   "source": [
    "**Challenge 6**"
   ]
  },
  {
   "cell_type": "markdown",
   "metadata": {},
   "source": [
    "If the lifetime (in hours) of a certain electronic component follows an exponential distribution with a mean lifetime of 50 hours, what is the probability that the component fails within the first 30 hours?"
   ]
  },
  {
   "cell_type": "code",
   "execution_count": 7,
   "metadata": {},
   "outputs": [
    {
     "name": "stdout",
     "output_type": "stream",
     "text": [
      "Probability of failing within 30 hours: 0.4512\n"
     ]
    }
   ],
   "source": [
    "#code here\n",
    "lambda_failure = 1 / 50  # Failure rate (1 per 50 hours)\n",
    "\n",
    "# Probability of failing within 30 hours\n",
    "prob_fail_30 = 1 - np.exp(-lambda_failure * 30)\n",
    "\n",
    "print(f\"Probability of failing within 30 hours: {prob_fail_30:.4f}\")"
   ]
  }
 ],
 "metadata": {
  "kernelspec": {
   "display_name": "base",
   "language": "python",
   "name": "python3"
  },
  "language_info": {
   "codemirror_mode": {
    "name": "ipython",
    "version": 3
   },
   "file_extension": ".py",
   "mimetype": "text/x-python",
   "name": "python",
   "nbconvert_exporter": "python",
   "pygments_lexer": "ipython3",
   "version": "3.12.7"
  }
 },
 "nbformat": 4,
 "nbformat_minor": 2
}
